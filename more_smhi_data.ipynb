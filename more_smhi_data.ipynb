{
 "cells": [
  {
   "cell_type": "markdown",
   "id": "4872950d-9348-41c2-bfb3-98c44200579c",
   "metadata": {},
   "source": [
    "# Digging up more SMHI data"
   ]
  },
  {
   "cell_type": "code",
   "execution_count": 1,
   "id": "e58efaae-270e-4300-bef2-aedd215ddc9a",
   "metadata": {},
   "outputs": [],
   "source": [
    "import requests\n",
    "import json\n",
    "import re\n",
    "import pathlib\n",
    "import pandas as pd\n",
    "from tqdm.notebook import tqdm\n"
   ]
  },
  {
   "cell_type": "code",
   "execution_count": 2,
   "id": "2046af93-11f1-47d7-91e3-6dcd16d037a2",
   "metadata": {},
   "outputs": [
    {
     "name": "stdout",
     "output_type": "stream",
     "text": [
      "found 3283 datasets\n"
     ]
    }
   ],
   "source": [
    "base_url = 'https://sharkdata.smhi.se/datasets/'\n",
    "dataset_list_url = base_url + 'list.json'\n",
    "datasets = json.loads(requests.get(dataset_list_url).text)\n",
    "print(f\"found {len(datasets)} datasets\")\n"
   ]
  },
  {
   "cell_type": "markdown",
   "id": "8242a53d-41a5-4883-bedf-ab71d81ce136",
   "metadata": {},
   "source": [
    "Let's break down the datasets by year using a regex to find integers in the filename. We create a dictionary `ds_years` with the number of datasets for each year"
   ]
  },
  {
   "cell_type": "code",
   "execution_count": 3,
   "id": "14c430cd-ba00-4319-b080-d3b34f2926f8",
   "metadata": {},
   "outputs": [
    {
     "data": {
      "text/plain": [
       "{'1893': 1,\n",
       " '1894': 1,\n",
       " '1896': 1,\n",
       " '1897': 1,\n",
       " '1898': 1,\n",
       " '1899': 1,\n",
       " '1900': 1,\n",
       " '1901': 1,\n",
       " '1902': 2,\n",
       " '1903': 1,\n",
       " '1904': 1,\n",
       " '1905': 1,\n",
       " '1906': 2,\n",
       " '1907': 2,\n",
       " '1908': 2,\n",
       " '1909': 3,\n",
       " '1910': 3,\n",
       " '1911': 3,\n",
       " '1912': 2,\n",
       " '1913': 2,\n",
       " '1914': 1,\n",
       " '1915': 1,\n",
       " '1916': 1,\n",
       " '1920': 1,\n",
       " '1921': 2,\n",
       " '1922': 2,\n",
       " '1923': 1,\n",
       " '1924': 2,\n",
       " '1925': 2,\n",
       " '1926': 1,\n",
       " '1927': 2,\n",
       " '1928': 3,\n",
       " '1929': 3,\n",
       " '1930': 3,\n",
       " '1931': 3,\n",
       " '1932': 3,\n",
       " '1933': 3,\n",
       " '1934': 3,\n",
       " '1935': 3,\n",
       " '1936': 3,\n",
       " '1937': 4,\n",
       " '1938': 3,\n",
       " '1939': 3,\n",
       " '1940': 2,\n",
       " '1941': 2,\n",
       " '1942': 2,\n",
       " '1943': 2,\n",
       " '1944': 2,\n",
       " '1945': 4,\n",
       " '1946': 5,\n",
       " '1947': 3,\n",
       " '1948': 2,\n",
       " '1949': 5,\n",
       " '1950': 3,\n",
       " '1951': 4,\n",
       " '1952': 3,\n",
       " '1953': 5,\n",
       " '1954': 4,\n",
       " '1955': 4,\n",
       " '1956': 3,\n",
       " '1957': 4,\n",
       " '1958': 4,\n",
       " '1959': 2,\n",
       " '1960': 2,\n",
       " '1961': 3,\n",
       " '1962': 3,\n",
       " '1963': 6,\n",
       " '1964': 5,\n",
       " '1965': 5,\n",
       " '1966': 6,\n",
       " '1967': 6,\n",
       " '1968': 8,\n",
       " '1969': 7,\n",
       " '1970': 5,\n",
       " '1971': 9,\n",
       " '1972': 8,\n",
       " '1973': 7,\n",
       " '1974': 7,\n",
       " '1975': 9,\n",
       " '1976': 8,\n",
       " '1977': 9,\n",
       " '1978': 5,\n",
       " '1979': 9,\n",
       " '1980': 8,\n",
       " '1981': 8,\n",
       " '1982': 9,\n",
       " '1983': 12,\n",
       " '1984': 11,\n",
       " '1985': 17,\n",
       " '1986': 14,\n",
       " '1987': 15,\n",
       " '1988': 16,\n",
       " '1989': 29,\n",
       " '1990': 37,\n",
       " '1991': 36,\n",
       " '1992': 35,\n",
       " '1993': 36,\n",
       " '1994': 44,\n",
       " '1995': 47,\n",
       " '1996': 48,\n",
       " '1997': 48,\n",
       " '1998': 47,\n",
       " '1999': 41,\n",
       " '2000': 56,\n",
       " '2001': 57,\n",
       " '2002': 54,\n",
       " '2003': 63,\n",
       " '2004': 60,\n",
       " '2005': 59,\n",
       " '2006': 85,\n",
       " '2007': 113,\n",
       " '2008': 121,\n",
       " '2009': 129,\n",
       " '2010': 113,\n",
       " '2011': 130,\n",
       " '2012': 158,\n",
       " '2013': 141,\n",
       " '2014': 118,\n",
       " '2015': 144,\n",
       " '2016': 145,\n",
       " '2017': 137,\n",
       " '2018': 154,\n",
       " '2019': 146,\n",
       " '2020': 137,\n",
       " '2021': 114,\n",
       " '2022': 14}"
      ]
     },
     "execution_count": 3,
     "metadata": {},
     "output_type": "execute_result"
    }
   ],
   "source": [
    "ds_years = {}\n",
    "for ds in datasets:\n",
    "    name = ds[\"dataset_name\"]\n",
    "    year = re.findall('\\d+', name )[0]\n",
    "    if year in ds_years.keys():\n",
    "        ds_years[year]+=1\n",
    "    else:\n",
    "        ds_years[year] = 1\n",
    "\n",
    "ds_years = dict(sorted(ds_years.items()))\n",
    "ds_years"
   ]
  },
  {
   "cell_type": "markdown",
   "id": "ca1a9fb7-7ae1-43f6-b6f8-5d956421c763",
   "metadata": {},
   "source": [
    "Let's request only datasets from 2020"
   ]
  },
  {
   "cell_type": "code",
   "execution_count": 4,
   "id": "0c8a638c-43ee-4e39-ac76-cb996e398059",
   "metadata": {},
   "outputs": [
    {
     "name": "stdout",
     "output_type": "stream",
     "text": [
      "Of these datasets, 137 are from 2020\n"
     ]
    }
   ],
   "source": [
    "datasets_2020 = []\n",
    "for ds in datasets:\n",
    "    name = ds[\"dataset_name\"]\n",
    "    year = re.findall('\\d+', name )[0]\n",
    "    if int(year) == 2020:\n",
    "        datasets_2020.append(ds)\n",
    "print(f\"Of these datasets, {len(datasets_2020)} are from 2020\")"
   ]
  },
  {
   "cell_type": "markdown",
   "id": "09583999-5f72-414f-b3b2-f80f67f55c54",
   "metadata": {},
   "source": [
    "As usual, we make a cache dir if it does not already exists and check for existing data before downloading"
   ]
  },
  {
   "cell_type": "code",
   "execution_count": 5,
   "id": "cc8dbe33-1094-459d-af75-781efe9ca5a9",
   "metadata": {},
   "outputs": [],
   "source": [
    "smhi_dir = pathlib.Path('smhi_data_cache')\n",
    "if not smhi_dir.exists():\n",
    "    print(f\"creating directory to cache SMHI datasets at {smhi_dir.absolute()}\")\n",
    "    smhi_dir.mkdir(parents=True, exist_ok=True)"
   ]
  },
  {
   "cell_type": "code",
   "execution_count": null,
   "id": "bf2808da-0f22-4fb5-991d-c18c9c8566f5",
   "metadata": {},
   "outputs": [
    {
     "data": {
      "application/vnd.jupyter.widget-view+json": {
       "model_id": "4804c86903e0431984f57cc7c4838559",
       "version_major": 2,
       "version_minor": 0
      },
      "text/plain": [
       "  0%|          | 0/137 [00:00<?, ?it/s]"
      ]
     },
     "metadata": {},
     "output_type": "display_data"
    },
    {
     "name": "stdout",
     "output_type": "stream",
     "text": [
      "Download smhi_data_cache/SHARK_Zoobenthos_2020_PAG_NVSKK_version_2022-09-23.csv\n",
      "Download smhi_data_cache/SHARK_Zoobenthos_2020_SLUA_FORS_version_2022-04-27.csv\n",
      "Download smhi_data_cache/SHARK_Chlorophyll_2020_2021_UMSC_HAV_version_2022-05-26.csv\n",
      "Download smhi_data_cache/SHARK_Zooplankton_2020_DEEP_version_2022-09-14.csv\n",
      "Download smhi_data_cache/SHARK_Zooplankton_2020_SLCK_version_2022-09-14.csv\n"
     ]
    },
    {
     "name": "stderr",
     "output_type": "stream",
     "text": [
      "/tmp/ipykernel_39957/4253097569.py:16: DtypeWarning: Columns (81,83) have mixed types. Specify dtype option on import or set low_memory=False.\n",
      "  df = pd.read_csv(download_url, encoding='cp1252', sep='\\t')\n"
     ]
    },
    {
     "name": "stdout",
     "output_type": "stream",
     "text": [
      "Download smhi_data_cache/SHARK_Zooplankton_2020_UMSC_version_2022-09-14.csv\n",
      "Download smhi_data_cache/SHARK_Zoobenthos_2020_2021_MEDINS_version_2022-04-27.csv\n",
      "Download smhi_data_cache/SHARK_Zoobenthos_2020_BILKBG_version_2022-04-27.csv\n",
      "Download smhi_data_cache/SHARK_Zoobenthos_2020_DEEP_DLST_version_2022-04-27.csv\n",
      "Download smhi_data_cache/SHARK_Zoobenthos_2020_PAG_NLST_5_version_2022-04-27.csv\n",
      "Download smhi_data_cache/SHARK_Zoobenthos_2020_DEEP_HAV_Asko_version_2022-09-14.csv\n",
      "Download smhi_data_cache/SHARK_Zoobenthos_2020_PAG_NLST_1_version_2022-09-16.csv\n",
      "Download smhi_data_cache/SHARK_Zoobenthos_2020_DEEP_ABLST_version_2022-09-14.csv\n",
      "Download smhi_data_cache/SHARK_Zoobenthos_2020_LNU_KLKK_BLK_version_2022-09-14.csv\n",
      "Deleting smhi_data_cache/SHARK_Zoobenthos_2020_DEEP_HAV_Asko_version_2022-09-14.csv\n",
      "Download smhi_data_cache/SHARK_Zoobenthos_2020_DEEP_HAV_version_2022-09-14.csv\n",
      "Download smhi_data_cache/SHARK_Zoobenthos_2020_DEEP_ILST_version_2022-09-14.csv\n",
      "Download smhi_data_cache/SHARK_Zoobenthos_2020_LNU_HLST_version_2022-09-14.csv\n",
      "Download smhi_data_cache/SHARK_Zoobenthos_2020_LNU_KLKK_KAL_version_2022-09-14.csv\n",
      "Download smhi_data_cache/SHARK_Zoobenthos_2020_PAG_NLST_2_version_2022-09-16.csv\n",
      "Deleting smhi_data_cache/SHARK_Zoobenthos_2020_LNU_KLKK_BLK_version_2022-09-14.csv\n",
      "Download smhi_data_cache/SHARK_Zoobenthos_2020_LNU_version_2022-09-14.csv\n",
      "Download smhi_data_cache/SHARK_Zoobenthos_2020_NIRAS_OVF_version_2022-09-14.csv\n",
      "Download smhi_data_cache/SHARK_Zoobenthos_2020_PAG_NLST_3_version_2022-09-16.csv\n",
      "Download smhi_data_cache/SHARK_Zoobenthos_2020_PAG_NLST_4_version_2022-09-16.csv\n",
      "Download smhi_data_cache/SHARK_Zoobenthos_2020_PAG_NLST_6_version_2022-09-16.csv\n",
      "Download smhi_data_cache/SHARK_Zoobenthos_2020_PAG_NLST_7_version_2022-09-16.csv\n",
      "Download smhi_data_cache/SHARK_Zoobenthos_2020_PAG_NLST_9_version_2022-09-16.csv\n",
      "Download smhi_data_cache/SHARK_Zoobenthos_2020_SLC-T_Bratten_version_2022-09-16.csv\n",
      "Download smhi_data_cache/SHARK_Zoobenthos_2020_SWECO_YLST_version_2022-09-14.csv\n",
      "Download smhi_data_cache/SHARK_Phytoplankton_2020_NIRAS_SYDVVF_VHVVF_NVSKK_OVVF_version_2022-09-16.csv\n",
      "Download smhi_data_cache/SHARK_Phytoplankton_2020_2021_UMSC_HAV_version_2022-09-14.csv\n",
      "Download smhi_data_cache/SHARK_Phytoplankton_2020_DEEP_ELST_version_2022-09-14.csv\n",
      "Download smhi_data_cache/SHARK_Phytoplankton_2020_DEEP_SKVVF_version_2022-09-14.csv\n",
      "Deleting smhi_data_cache/SHARK_Phytoplankton_2020_DEEP_ELST_version_2022-09-14.csv\n",
      "Download smhi_data_cache/SHARK_Phytoplankton_2020_DEEP_version_2022-09-14.csv\n"
     ]
    },
    {
     "name": "stderr",
     "output_type": "stream",
     "text": [
      "/tmp/ipykernel_39957/4253097569.py:16: DtypeWarning: Columns (65) have mixed types. Specify dtype option on import or set low_memory=False.\n",
      "  df = pd.read_csv(download_url, encoding='cp1252', sep='\\t')\n"
     ]
    },
    {
     "name": "stdout",
     "output_type": "stream",
     "text": [
      "Download smhi_data_cache/SHARK_Phytoplankton_2020_MEDINS_DVVF_version_2022-09-14.csv\n",
      "Download smhi_data_cache/SHARK_Phytoplankton_2020_MEDINS_LVVF_version_2022-09-14.csv\n",
      "Download smhi_data_cache/SHARK_Phytoplankton_2020_MEDINS_MSVVF_version_2022-09-14.csv\n",
      "Download smhi_data_cache/SHARK_Phytoplankton_2020_MEDINS_NORKOM_version_2022-09-14.csv\n",
      "Download smhi_data_cache/SHARK_Phytoplankton_2020_MEDINS_UVVVF_version_2022-09-14.csv\n",
      "Download smhi_data_cache/SHARK_Phytoplankton_2020_PELA_GVVF_version_2022-09-14.csv\n",
      "Download smhi_data_cache/SHARK_Phytoplankton_2020_PELA_SVAB_version_2022-09-14.csv\n",
      "Download smhi_data_cache/SHARK_Phytoplankton_2020_SMHI_OLST_version_2022-09-14.csv\n",
      "Download smhi_data_cache/SHARK_Phytoplankton_2020_SMHI_SLV_biotox_version_2022-09-14.csv\n",
      "Download smhi_data_cache/SHARK_Phytoplankton_2020_SMHI_ColorFantasy_version_2022-09-14.csv\n",
      "Deleting smhi_data_cache/SHARK_Phytoplankton_2020_SMHI_OLST_version_2022-09-14.csv\n",
      "Download smhi_data_cache/SHARK_Phytoplankton_2020_SMHI_version_2022-09-14.csv\n"
     ]
    },
    {
     "name": "stderr",
     "output_type": "stream",
     "text": [
      "/tmp/ipykernel_39957/4253097569.py:16: DtypeWarning: Columns (42) have mixed types. Specify dtype option on import or set low_memory=False.\n",
      "  df = pd.read_csv(download_url, encoding='cp1252', sep='\\t')\n"
     ]
    },
    {
     "name": "stdout",
     "output_type": "stream",
     "text": [
      "Download smhi_data_cache/SHARK_Phytoplankton_2020_UMSC_ACLST_version_2022-09-14.csv\n",
      "Download smhi_data_cache/SHARK_Phytoplankton_2020_UMSC_YLST_version_2022-09-14.csv\n",
      "Deleting smhi_data_cache/SHARK_Phytoplankton_2020_UMSC_ACLST_version_2022-09-14.csv\n",
      "Download smhi_data_cache/SHARK_Phytoplankton_2020_UMSC_version_2022-09-14.csv\n"
     ]
    },
    {
     "name": "stderr",
     "output_type": "stream",
     "text": [
      "/tmp/ipykernel_39957/4253097569.py:16: DtypeWarning: Columns (77) have mixed types. Specify dtype option on import or set low_memory=False.\n",
      "  df = pd.read_csv(download_url, encoding='cp1252', sep='\\t')\n"
     ]
    },
    {
     "name": "stdout",
     "output_type": "stream",
     "text": [
      "Download smhi_data_cache/SHARK_Phytoplankton_2020_WEAQ_NLST_version_2022-09-16.csv\n",
      "Download smhi_data_cache/SHARK_Epibenthos_2020_LNU_version_2022-09-30.csv\n",
      "Download smhi_data_cache/SHARK_Epibenthos_2020_BDLST_BDK_version_2022-09-30.csv\n",
      "Download smhi_data_cache/SHARK_Epibenthos_2020_DEEP_Asko_version_2022-09-30.csv\n",
      "Download smhi_data_cache/SHARK_Epibenthos_2020_DEEP_DLST_version_2022-09-30.csv\n",
      "Download smhi_data_cache/SHARK_Epibenthos_2020_DEEP_Hoga_kusten_version_2022-09-30.csv\n",
      "Download smhi_data_cache/SHARK_Epibenthos_2020_DEEP_Singo_version_2022-09-30.csv\n",
      "Download smhi_data_cache/SHARK_Epibenthos_2020_LITORALIS_ELST_version_2022-09-30.csv\n",
      "Download smhi_data_cache/SHARK_Epibenthos_2020_LNU_BKVF_version_2022-09-30.csv\n",
      "Download smhi_data_cache/SHARK_Epibenthos_2020_SGU_dropvideo_version_2022-09-30.csv\n"
     ]
    }
   ],
   "source": [
    "for ds_dict in tqdm(datasets_2020):\n",
    "    ds_name = ds_dict[\"dataset_name\"]\n",
    "    ds_name_and_date = ds_dict[\"dataset_file_name\"]\n",
    "    ds_file = smhi_dir / (ds_name_and_date[:-3] + \"csv\")\n",
    "    if ds_file.exists():\n",
    "        # If file exists, don't re-download it\n",
    "        continue\n",
    "    same_name_files = list(smhi_dir.glob(f\"{ds_name}*\"))\n",
    "    if same_name_files:\n",
    "        # File exists with the same name but different date. Replace with (presumably newer) file from server\n",
    "        old_file = same_name_files[0]\n",
    "        old_file.unlink()\n",
    "        print(f\"Deleting {old_file}\")\n",
    "    print(f\"Download {ds_file}\")\n",
    "    download_url = base_url + ds_name + '/data.txt'\n",
    "    df = pd.read_csv(download_url, encoding='cp1252', sep='\\t')\n",
    "    df.to_csv(ds_file, index=False)"
   ]
  },
  {
   "cell_type": "code",
   "execution_count": null,
   "id": "eea4c371-b763-4a10-bb29-be969d6348d8",
   "metadata": {},
   "outputs": [],
   "source": []
  }
 ],
 "metadata": {
  "kernelspec": {
   "display_name": "Python 3 (ipykernel)",
   "language": "python",
   "name": "python3"
  },
  "language_info": {
   "codemirror_mode": {
    "name": "ipython",
    "version": 3
   },
   "file_extension": ".py",
   "mimetype": "text/x-python",
   "name": "python",
   "nbconvert_exporter": "python",
   "pygments_lexer": "ipython3",
   "version": "3.9.13"
  }
 },
 "nbformat": 4,
 "nbformat_minor": 5
}
