{
 "cells": [
  {
   "cell_type": "markdown",
   "id": "8f163187-8fa3-4ff4-be57-6d54031ee38b",
   "metadata": {},
   "source": [
    "# Finding missions of interest\n",
    "\n",
    "In this notebook, we use the `allDatasets` dataset from ERDDAP to examine the primary metadata of all glider missions. We will use only nrt datasets to speed up the process of examining metadata"
   ]
  },
  {
   "cell_type": "code",
   "execution_count": 1,
   "id": "e5427e14-40cc-4921-9464-b6f71c707ad1",
   "metadata": {},
   "outputs": [],
   "source": [
    "import utils\n",
    "import datetime\n",
    "from tqdm.notebook import tqdm\n",
    "import pandas as pd"
   ]
  },
  {
   "cell_type": "code",
   "execution_count": 2,
   "id": "c7ff9bd0-06a2-48ca-8fae-4a57e06e1826",
   "metadata": {},
   "outputs": [
    {
     "name": "stdout",
     "output_type": "stream",
     "text": [
      "Analysing 96 nrt datasets\n"
     ]
    }
   ],
   "source": [
    "e = utils.init_erddap()\n",
    "\n",
    "# Fetch dataset list\n",
    "e.response = \"csv\"\n",
    "e.dataset_id = \"allDatasets\"\n",
    "df_datasets = e.to_pandas(parse_dates=['minTime (UTC)', 'maxTime (UTC)'])\n",
    "\n",
    "# drop the allDatasets row and make the datasetID the index for easier reading\n",
    "df_datasets.set_index(\"datasetID\", inplace=True)\n",
    "df_datasets.drop(\"allDatasets\", inplace=True)\n",
    "df_datasets = df_datasets[df_datasets.index.str[:3] == \"nrt\"]\n",
    "print(f\"Analysing {len(df_datasets)} nrt datasets\")"
   ]
  },
  {
   "cell_type": "code",
   "execution_count": 3,
   "id": "cc099e0b-2814-4764-a559-37b8a80cd820",
   "metadata": {},
   "outputs": [
    {
     "data": {
      "text/html": [
       "<div>\n",
       "<style scoped>\n",
       "    .dataframe tbody tr th:only-of-type {\n",
       "        vertical-align: middle;\n",
       "    }\n",
       "\n",
       "    .dataframe tbody tr th {\n",
       "        vertical-align: top;\n",
       "    }\n",
       "\n",
       "    .dataframe thead th {\n",
       "        text-align: right;\n",
       "    }\n",
       "</style>\n",
       "<table border=\"1\" class=\"dataframe\">\n",
       "  <thead>\n",
       "    <tr style=\"text-align: right;\">\n",
       "      <th></th>\n",
       "      <th>accessible</th>\n",
       "      <th>institution</th>\n",
       "      <th>dataStructure</th>\n",
       "      <th>cdm_data_type</th>\n",
       "      <th>class</th>\n",
       "      <th>title</th>\n",
       "      <th>minLongitude (degrees_east)</th>\n",
       "      <th>maxLongitude (degrees_east)</th>\n",
       "      <th>longitudeSpacing (degrees_east)</th>\n",
       "      <th>minLatitude (degrees_north)</th>\n",
       "      <th>...</th>\n",
       "      <th>fgdc</th>\n",
       "      <th>iso19115</th>\n",
       "      <th>metadata</th>\n",
       "      <th>sourceUrl</th>\n",
       "      <th>infoUrl</th>\n",
       "      <th>rss</th>\n",
       "      <th>email</th>\n",
       "      <th>testOutOfDate</th>\n",
       "      <th>outOfDate</th>\n",
       "      <th>summary</th>\n",
       "    </tr>\n",
       "    <tr>\n",
       "      <th>datasetID</th>\n",
       "      <th></th>\n",
       "      <th></th>\n",
       "      <th></th>\n",
       "      <th></th>\n",
       "      <th></th>\n",
       "      <th></th>\n",
       "      <th></th>\n",
       "      <th></th>\n",
       "      <th></th>\n",
       "      <th></th>\n",
       "      <th></th>\n",
       "      <th></th>\n",
       "      <th></th>\n",
       "      <th></th>\n",
       "      <th></th>\n",
       "      <th></th>\n",
       "      <th></th>\n",
       "      <th></th>\n",
       "      <th></th>\n",
       "      <th></th>\n",
       "      <th></th>\n",
       "    </tr>\n",
       "  </thead>\n",
       "  <tbody>\n",
       "    <tr>\n",
       "      <th>nrt_SEA068_M27</th>\n",
       "      <td>public</td>\n",
       "      <td>Voice of the Ocean Foundation</td>\n",
       "      <td>table</td>\n",
       "      <td>TimeSeries</td>\n",
       "      <td>EDDTableFromMultidimNcFiles</td>\n",
       "      <td>Aster68-20220727T1709</td>\n",
       "      <td>19.901883</td>\n",
       "      <td>19.982300</td>\n",
       "      <td>NaN</td>\n",
       "      <td>58.199850</td>\n",
       "      <td>...</td>\n",
       "      <td>https://erddap.observations.voiceoftheocean.or...</td>\n",
       "      <td>https://erddap.observations.voiceoftheocean.or...</td>\n",
       "      <td>https://erddap.observations.voiceoftheocean.or...</td>\n",
       "      <td>(local files)</td>\n",
       "      <td>https://cfconventions.org/cf-conventions/v1.6....</td>\n",
       "      <td>https://erddap.observations.voiceoftheocean.or...</td>\n",
       "      <td>https://erddap.observations.voiceoftheocean.or...</td>\n",
       "      <td>NaN</td>\n",
       "      <td>NaN</td>\n",
       "      <td>Summer 2022 Eastern Gotland Basin trials</td>\n",
       "    </tr>\n",
       "    <tr>\n",
       "      <th>nrt_SEA076_M8</th>\n",
       "      <td>public</td>\n",
       "      <td>Voice of the Ocean Foundation</td>\n",
       "      <td>table</td>\n",
       "      <td>TimeSeries</td>\n",
       "      <td>EDDTableFromMultidimNcFiles</td>\n",
       "      <td>Fibbla76-20221005T1504</td>\n",
       "      <td>15.736967</td>\n",
       "      <td>16.323750</td>\n",
       "      <td>NaN</td>\n",
       "      <td>55.532217</td>\n",
       "      <td>...</td>\n",
       "      <td>https://erddap.observations.voiceoftheocean.or...</td>\n",
       "      <td>https://erddap.observations.voiceoftheocean.or...</td>\n",
       "      <td>https://erddap.observations.voiceoftheocean.or...</td>\n",
       "      <td>(local files)</td>\n",
       "      <td>https://cfconventions.org/cf-conventions/v1.6....</td>\n",
       "      <td>https://erddap.observations.voiceoftheocean.or...</td>\n",
       "      <td>https://erddap.observations.voiceoftheocean.or...</td>\n",
       "      <td>now-1day</td>\n",
       "      <td>0.072726</td>\n",
       "      <td>Part of NS_Bornholm continuous monitoring</td>\n",
       "    </tr>\n",
       "    <tr>\n",
       "      <th>nrt_SEA069_M9</th>\n",
       "      <td>public</td>\n",
       "      <td>Voice of the Ocean Foundation</td>\n",
       "      <td>table</td>\n",
       "      <td>TimeSeries</td>\n",
       "      <td>EDDTableFromMultidimNcFiles</td>\n",
       "      <td>Kalmus69-20220727T1637</td>\n",
       "      <td>19.909683</td>\n",
       "      <td>19.964233</td>\n",
       "      <td>NaN</td>\n",
       "      <td>58.192767</td>\n",
       "      <td>...</td>\n",
       "      <td>https://erddap.observations.voiceoftheocean.or...</td>\n",
       "      <td>https://erddap.observations.voiceoftheocean.or...</td>\n",
       "      <td>https://erddap.observations.voiceoftheocean.or...</td>\n",
       "      <td>(local files)</td>\n",
       "      <td>https://cfconventions.org/cf-conventions/v1.6....</td>\n",
       "      <td>https://erddap.observations.voiceoftheocean.or...</td>\n",
       "      <td>https://erddap.observations.voiceoftheocean.or...</td>\n",
       "      <td>NaN</td>\n",
       "      <td>NaN</td>\n",
       "      <td>Summer 2022 Eastern Gotland Basin trials</td>\n",
       "    </tr>\n",
       "    <tr>\n",
       "      <th>nrt_SEA069_M11</th>\n",
       "      <td>public</td>\n",
       "      <td>Voice of the Ocean Foundation</td>\n",
       "      <td>table</td>\n",
       "      <td>TimeSeries</td>\n",
       "      <td>EDDTableFromMultidimNcFiles</td>\n",
       "      <td>Kalmus69-20220923T1506</td>\n",
       "      <td>15.990183</td>\n",
       "      <td>16.376900</td>\n",
       "      <td>NaN</td>\n",
       "      <td>55.255733</td>\n",
       "      <td>...</td>\n",
       "      <td>https://erddap.observations.voiceoftheocean.or...</td>\n",
       "      <td>https://erddap.observations.voiceoftheocean.or...</td>\n",
       "      <td>https://erddap.observations.voiceoftheocean.or...</td>\n",
       "      <td>(local files)</td>\n",
       "      <td>https://cfconventions.org/cf-conventions/v1.6....</td>\n",
       "      <td>https://erddap.observations.voiceoftheocean.or...</td>\n",
       "      <td>https://erddap.observations.voiceoftheocean.or...</td>\n",
       "      <td>now-12days</td>\n",
       "      <td>0.498496</td>\n",
       "      <td>Part of SAMBA continuous monitoring</td>\n",
       "    </tr>\n",
       "    <tr>\n",
       "      <th>nrt_SEA055_M16</th>\n",
       "      <td>public</td>\n",
       "      <td>Voice of the Ocean Foundation</td>\n",
       "      <td>table</td>\n",
       "      <td>TimeSeries</td>\n",
       "      <td>EDDTableFromMultidimNcFiles</td>\n",
       "      <td>Kaprifol55-20201031T0902</td>\n",
       "      <td>15.700337</td>\n",
       "      <td>16.237867</td>\n",
       "      <td>NaN</td>\n",
       "      <td>55.472545</td>\n",
       "      <td>...</td>\n",
       "      <td>https://erddap.observations.voiceoftheocean.or...</td>\n",
       "      <td>https://erddap.observations.voiceoftheocean.or...</td>\n",
       "      <td>https://erddap.observations.voiceoftheocean.or...</td>\n",
       "      <td>(local files)</td>\n",
       "      <td>https://cfconventions.org/cf-conventions/v1.6....</td>\n",
       "      <td>https://erddap.observations.voiceoftheocean.or...</td>\n",
       "      <td>https://erddap.observations.voiceoftheocean.or...</td>\n",
       "      <td>NaN</td>\n",
       "      <td>NaN</td>\n",
       "      <td>Part of SAMBA continuous monitoring</td>\n",
       "    </tr>\n",
       "  </tbody>\n",
       "</table>\n",
       "<p>5 rows × 35 columns</p>\n",
       "</div>"
      ],
      "text/plain": [
       "               accessible                    institution dataStructure  \\\n",
       "datasetID                                                                \n",
       "nrt_SEA068_M27     public  Voice of the Ocean Foundation         table   \n",
       "nrt_SEA076_M8      public  Voice of the Ocean Foundation         table   \n",
       "nrt_SEA069_M9      public  Voice of the Ocean Foundation         table   \n",
       "nrt_SEA069_M11     public  Voice of the Ocean Foundation         table   \n",
       "nrt_SEA055_M16     public  Voice of the Ocean Foundation         table   \n",
       "\n",
       "               cdm_data_type                        class  \\\n",
       "datasetID                                                   \n",
       "nrt_SEA068_M27    TimeSeries  EDDTableFromMultidimNcFiles   \n",
       "nrt_SEA076_M8     TimeSeries  EDDTableFromMultidimNcFiles   \n",
       "nrt_SEA069_M9     TimeSeries  EDDTableFromMultidimNcFiles   \n",
       "nrt_SEA069_M11    TimeSeries  EDDTableFromMultidimNcFiles   \n",
       "nrt_SEA055_M16    TimeSeries  EDDTableFromMultidimNcFiles   \n",
       "\n",
       "                                   title  minLongitude (degrees_east)  \\\n",
       "datasetID                                                               \n",
       "nrt_SEA068_M27     Aster68-20220727T1709                    19.901883   \n",
       "nrt_SEA076_M8     Fibbla76-20221005T1504                    15.736967   \n",
       "nrt_SEA069_M9     Kalmus69-20220727T1637                    19.909683   \n",
       "nrt_SEA069_M11    Kalmus69-20220923T1506                    15.990183   \n",
       "nrt_SEA055_M16  Kaprifol55-20201031T0902                    15.700337   \n",
       "\n",
       "                maxLongitude (degrees_east)  longitudeSpacing (degrees_east)  \\\n",
       "datasetID                                                                      \n",
       "nrt_SEA068_M27                    19.982300                              NaN   \n",
       "nrt_SEA076_M8                     16.323750                              NaN   \n",
       "nrt_SEA069_M9                     19.964233                              NaN   \n",
       "nrt_SEA069_M11                    16.376900                              NaN   \n",
       "nrt_SEA055_M16                    16.237867                              NaN   \n",
       "\n",
       "                minLatitude (degrees_north)  ...  \\\n",
       "datasetID                                    ...   \n",
       "nrt_SEA068_M27                    58.199850  ...   \n",
       "nrt_SEA076_M8                     55.532217  ...   \n",
       "nrt_SEA069_M9                     58.192767  ...   \n",
       "nrt_SEA069_M11                    55.255733  ...   \n",
       "nrt_SEA055_M16                    55.472545  ...   \n",
       "\n",
       "                                                             fgdc  \\\n",
       "datasetID                                                           \n",
       "nrt_SEA068_M27  https://erddap.observations.voiceoftheocean.or...   \n",
       "nrt_SEA076_M8   https://erddap.observations.voiceoftheocean.or...   \n",
       "nrt_SEA069_M9   https://erddap.observations.voiceoftheocean.or...   \n",
       "nrt_SEA069_M11  https://erddap.observations.voiceoftheocean.or...   \n",
       "nrt_SEA055_M16  https://erddap.observations.voiceoftheocean.or...   \n",
       "\n",
       "                                                         iso19115  \\\n",
       "datasetID                                                           \n",
       "nrt_SEA068_M27  https://erddap.observations.voiceoftheocean.or...   \n",
       "nrt_SEA076_M8   https://erddap.observations.voiceoftheocean.or...   \n",
       "nrt_SEA069_M9   https://erddap.observations.voiceoftheocean.or...   \n",
       "nrt_SEA069_M11  https://erddap.observations.voiceoftheocean.or...   \n",
       "nrt_SEA055_M16  https://erddap.observations.voiceoftheocean.or...   \n",
       "\n",
       "                                                         metadata  \\\n",
       "datasetID                                                           \n",
       "nrt_SEA068_M27  https://erddap.observations.voiceoftheocean.or...   \n",
       "nrt_SEA076_M8   https://erddap.observations.voiceoftheocean.or...   \n",
       "nrt_SEA069_M9   https://erddap.observations.voiceoftheocean.or...   \n",
       "nrt_SEA069_M11  https://erddap.observations.voiceoftheocean.or...   \n",
       "nrt_SEA055_M16  https://erddap.observations.voiceoftheocean.or...   \n",
       "\n",
       "                    sourceUrl  \\\n",
       "datasetID                       \n",
       "nrt_SEA068_M27  (local files)   \n",
       "nrt_SEA076_M8   (local files)   \n",
       "nrt_SEA069_M9   (local files)   \n",
       "nrt_SEA069_M11  (local files)   \n",
       "nrt_SEA055_M16  (local files)   \n",
       "\n",
       "                                                          infoUrl  \\\n",
       "datasetID                                                           \n",
       "nrt_SEA068_M27  https://cfconventions.org/cf-conventions/v1.6....   \n",
       "nrt_SEA076_M8   https://cfconventions.org/cf-conventions/v1.6....   \n",
       "nrt_SEA069_M9   https://cfconventions.org/cf-conventions/v1.6....   \n",
       "nrt_SEA069_M11  https://cfconventions.org/cf-conventions/v1.6....   \n",
       "nrt_SEA055_M16  https://cfconventions.org/cf-conventions/v1.6....   \n",
       "\n",
       "                                                              rss  \\\n",
       "datasetID                                                           \n",
       "nrt_SEA068_M27  https://erddap.observations.voiceoftheocean.or...   \n",
       "nrt_SEA076_M8   https://erddap.observations.voiceoftheocean.or...   \n",
       "nrt_SEA069_M9   https://erddap.observations.voiceoftheocean.or...   \n",
       "nrt_SEA069_M11  https://erddap.observations.voiceoftheocean.or...   \n",
       "nrt_SEA055_M16  https://erddap.observations.voiceoftheocean.or...   \n",
       "\n",
       "                                                            email  \\\n",
       "datasetID                                                           \n",
       "nrt_SEA068_M27  https://erddap.observations.voiceoftheocean.or...   \n",
       "nrt_SEA076_M8   https://erddap.observations.voiceoftheocean.or...   \n",
       "nrt_SEA069_M9   https://erddap.observations.voiceoftheocean.or...   \n",
       "nrt_SEA069_M11  https://erddap.observations.voiceoftheocean.or...   \n",
       "nrt_SEA055_M16  https://erddap.observations.voiceoftheocean.or...   \n",
       "\n",
       "                testOutOfDate outOfDate  \\\n",
       "datasetID                                 \n",
       "nrt_SEA068_M27            NaN       NaN   \n",
       "nrt_SEA076_M8        now-1day  0.072726   \n",
       "nrt_SEA069_M9             NaN       NaN   \n",
       "nrt_SEA069_M11     now-12days  0.498496   \n",
       "nrt_SEA055_M16            NaN       NaN   \n",
       "\n",
       "                                                  summary  \n",
       "datasetID                                                  \n",
       "nrt_SEA068_M27   Summer 2022 Eastern Gotland Basin trials  \n",
       "nrt_SEA076_M8   Part of NS_Bornholm continuous monitoring  \n",
       "nrt_SEA069_M9    Summer 2022 Eastern Gotland Basin trials  \n",
       "nrt_SEA069_M11        Part of SAMBA continuous monitoring  \n",
       "nrt_SEA055_M16        Part of SAMBA continuous monitoring  \n",
       "\n",
       "[5 rows x 35 columns]"
      ]
     },
     "execution_count": 3,
     "metadata": {},
     "output_type": "execute_result"
    }
   ],
   "source": [
    "df_datasets.head()"
   ]
  },
  {
   "cell_type": "code",
   "execution_count": 4,
   "id": "34307d12-d503-4606-a86b-dcbe5e09c421",
   "metadata": {},
   "outputs": [
    {
     "data": {
      "text/plain": [
       "datasetID\n",
       "nrt_SEA045_M41   33 days 17:55:04\n",
       "nrt_SEA045_M43   32 days 06:48:25\n",
       "nrt_SEA045_M44   31 days 14:41:22\n",
       "nrt_SEA044_M32   33 days 15:40:34\n",
       "nrt_SEA044_M34   32 days 12:15:46\n",
       "nrt_SEA044_M35   31 days 10:01:28\n",
       "Name: endurance, dtype: timedelta64[ns]"
      ]
     },
     "execution_count": 4,
     "metadata": {},
     "output_type": "execute_result"
    }
   ],
   "source": [
    "# Find datasets from deployments that lasted longer than a set number of days\n",
    "df_datasets[\"endurance\"] = df_datasets['maxTime (UTC)'] - df_datasets['minTime (UTC)']\n",
    "min_days = 30\n",
    "df_datasets[df_datasets[\"endurance\"] > datetime.timedelta(days=min_days)].endurance"
   ]
  },
  {
   "cell_type": "markdown",
   "id": "a860eb1e-44d1-461d-a60f-7505d7a6ba9c",
   "metadata": {},
   "source": [
    "### Which glider missions extended to a depth of greater than 150 m in the seas northeast of Gotland?"
   ]
  },
  {
   "cell_type": "code",
   "execution_count": 5,
   "id": "3951754a-b75b-4757-8fa8-3ebd2130d9fd",
   "metadata": {},
   "outputs": [
    {
     "data": {
      "text/plain": [
       "array(['nrt_SEA068_M27', 'nrt_SEA069_M9', 'nrt_SEA067_M26',\n",
       "       'nrt_SEA067_M27', 'nrt_SEA067_M29', 'nrt_SEA067_M30',\n",
       "       'nrt_SEA067_M32', 'nrt_SEA066_M41', 'nrt_SEA066_M42',\n",
       "       'nrt_SEA066_M43'], dtype=object)"
      ]
     },
     "execution_count": 5,
     "metadata": {},
     "output_type": "execute_result"
    }
   ],
   "source": [
    "min_altitude = -150# note the sign!\n",
    "min_easting = 19\n",
    "min_northing = 58\n",
    "mask = (df_datasets['maxAltitude (m)'] < min_altitude).values \\\n",
    "* (df_datasets['maxLongitude (degrees_east)'] > min_easting).values \\\n",
    "* (df_datasets['maxLatitude (degrees_north)'] > min_northing).values\n",
    "df_datasets[mask].index.values"
   ]
  },
  {
   "cell_type": "markdown",
   "id": "55c53e9f-0562-4704-b138-32a0776189cb",
   "metadata": {},
   "source": [
    "---------------------\n",
    "\n",
    "# Deeper metadata\n",
    "\n",
    "To access metadata at the sensor level, we need to download the .das metadata for each dataset. This is currently a rather hacky text parsing job. Look at the function `get_meta` in `utils.py` for details"
   ]
  },
  {
   "cell_type": "code",
   "execution_count": 6,
   "id": "4248316d-0ea0-4165-a4b6-5565ca3c6029",
   "metadata": {},
   "outputs": [
    {
     "data": {
      "application/vnd.jupyter.widget-view+json": {
       "model_id": "687d8b1079bc4bb9b8268c194916b188",
       "version_major": 2,
       "version_minor": 0
      },
      "text/plain": [
       "  0%|          | 0/96 [00:00<?, ?it/s]"
      ]
     },
     "metadata": {},
     "output_type": "display_data"
    }
   ],
   "source": [
    "ds_meta = {}\n",
    "for dataset_id in tqdm(df_datasets.index):\n",
    "    ds_meta[dataset_id] = utils.get_meta(dataset_id)"
   ]
  },
  {
   "cell_type": "markdown",
   "id": "f7db993e-820b-4b23-aeec-3a602de4206e",
   "metadata": {},
   "source": [
    "### Expanding the table\n",
    "\n",
    "Let's add this more detailed metadata to our metadtata DataFrame so we have more scope for filtering"
   ]
  },
  {
   "cell_type": "code",
   "execution_count": 7,
   "id": "7e596eed-5625-4473-96f6-c9ea6ea703cc",
   "metadata": {},
   "outputs": [],
   "source": [
    "for dataset_id, meta in ds_meta.items():\n",
    "    for key, val in meta.items():\n",
    "        if key not in list(df_datasets):\n",
    "            df_datasets[key] = None\n",
    "        # Some of the metadata is stored in dicts, which pandas does not like, so we cast to string\n",
    "        try:\n",
    "            df_datasets.loc[dataset_id, key] = val\n",
    "        except:\n",
    "            df_datasets.loc[dataset_id, key] = str(val)"
   ]
  },
  {
   "cell_type": "markdown",
   "id": "95c5459a-2cea-4772-9e3a-4e57ca622966",
   "metadata": {},
   "source": [
    "Let's have a look at some of this more detailed metadat that we can now run queries against"
   ]
  },
  {
   "cell_type": "markdown",
   "id": "c3b92587-0666-42a8-a891-38f43f50cc53",
   "metadata": {},
   "source": [
    "### Which datasets were collected in Bornholm?"
   ]
  },
  {
   "cell_type": "code",
   "execution_count": 8,
   "id": "2d6fa05f-f499-4b03-b23c-053b7d494ec9",
   "metadata": {},
   "outputs": [
    {
     "name": "stdout",
     "output_type": "stream",
     "text": [
      "Missions in Bornholm: ['nrt_SEA076_M8', 'nrt_SEA069_M11', 'nrt_SEA055_M16', 'nrt_SEA055_M18', 'nrt_SEA055_M19', 'nrt_SEA055_M20', 'nrt_SEA055_M21', 'nrt_SEA055_M24', 'nrt_SEA055_M28', 'nrt_SEA055_M31', 'nrt_SEA055_M37', 'nrt_SEA055_M43', 'nrt_SEA045_M48', 'nrt_SEA045_M54', 'nrt_SEA045_M56', 'nrt_SEA045_M60', 'nrt_SEA045_M62', 'nrt_SEA045_M64', 'nrt_SEA045_M65', 'nrt_SEA045_M67', 'nrt_SEA063_M17', 'nrt_SEA063_M18', 'nrt_SEA063_M19', 'nrt_SEA063_M20', 'nrt_SEA063_M21', 'nrt_SEA063_M22', 'nrt_SEA063_M33', 'nrt_SEA063_M35', 'nrt_SEA063_M37', 'nrt_SEA063_M38', 'nrt_SEA063_M39', 'nrt_SEA063_M40', 'nrt_SEA044_M40', 'nrt_SEA044_M48', 'nrt_SEA066_M10', 'nrt_SEA066_M12', 'nrt_SEA066_M14', 'nrt_SEA077_M11', 'nrt_SEA077_M12', 'nrt_SEA077_M13', 'nrt_SEA056_M40', 'nrt_SEA061_M38', 'nrt_SEA061_M39', 'nrt_SEA061_M40', 'nrt_SEA061_M42', 'nrt_SEA061_M43', 'nrt_SEA061_M48', 'nrt_SEA061_M50', 'nrt_SEA061_M54']\n"
     ]
    }
   ],
   "source": [
    "bornholm_missions = []\n",
    "for dataset_id, meta in ds_meta.items():\n",
    "    if \"bornholm\" in meta[\"basin\"].lower():\n",
    "        bornholm_missions.append(dataset_id)\n",
    "print(f\"Missions in Bornholm: {bornholm_missions}\")"
   ]
  },
  {
   "cell_type": "markdown",
   "id": "9a755e54-d0c9-49a3-91d4-38dd9429e662",
   "metadata": {},
   "source": [
    "### Which datasets were collected as part of the SAMBA project during 2022?"
   ]
  },
  {
   "cell_type": "code",
   "execution_count": 9,
   "id": "4c75d608-fc2c-4740-8bce-c975df01f1e0",
   "metadata": {},
   "outputs": [
    {
     "name": "stdout",
     "output_type": "stream",
     "text": [
      "SAMBA 2022 missions:\n",
      "Index(['nrt_SEA068_M27', 'nrt_SEA069_M9', 'nrt_SEA067_M26', 'nrt_SEA067_M27',\n",
      "       'nrt_SEA067_M29', 'nrt_SEA067_M30', 'nrt_SEA067_M32', 'nrt_SEA066_M41',\n",
      "       'nrt_SEA066_M42', 'nrt_SEA066_M43'],\n",
      "      dtype='object', name='datasetID')\n"
     ]
    }
   ],
   "source": [
    "start = df_datasets[\"maxTime (UTC)\"] > pd.Timestamp(\"2022-01-01\").tz_localize('utc') \n",
    "end = df_datasets[\"minTime (UTC)\"] < pd.Timestamp(\"2023-01-01\").tz_localize('utc') \n",
    "project = df_datasets[\"project\"] == \"SAMBA\"\n",
    "print(f\"SAMBA 2022 missions:\")\n",
    "print(df_datasets[mask].index)"
   ]
  }
 ],
 "metadata": {
  "kernelspec": {
   "display_name": "Python 3 (ipykernel)",
   "language": "python",
   "name": "python3"
  },
  "language_info": {
   "codemirror_mode": {
    "name": "ipython",
    "version": 3
   },
   "file_extension": ".py",
   "mimetype": "text/x-python",
   "name": "python",
   "nbconvert_exporter": "python",
   "pygments_lexer": "ipython3",
   "version": "3.9.13"
  }
 },
 "nbformat": 4,
 "nbformat_minor": 5
}
